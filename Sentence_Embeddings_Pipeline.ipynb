{
  "cells": [
    {
      "cell_type": "markdown",
      "id": "93de5736",
      "metadata": {
        "id": "93de5736"
      },
      "source": [
        "#  Sentence Embeddings"
      ]
    },
    {
      "cell_type": "code",
      "source": [
        "!pip install sentence-transformers"
      ],
      "metadata": {
        "colab": {
          "base_uri": "https://localhost:8080/"
        },
        "id": "uHFXVXp_9eQd",
        "outputId": "90346ca5-ade8-48ae-9a58-07d0d906ef9d"
      },
      "id": "uHFXVXp_9eQd",
      "execution_count": null,
      "outputs": [
        {
          "output_type": "stream",
          "name": "stdout",
          "text": [
            "Installing collected packages: nvidia-nvtx-cu12, nvidia-nvjitlink-cu12, nvidia-nccl-cu12, nvidia-curand-cu12, nvidia-cufft-cu12, nvidia-cuda-runtime-cu12, nvidia-cuda-nvrtc-cu12, nvidia-cuda-cupti-cu12, nvidia-cublas-cu12, nvidia-cusparse-cu12, nvidia-cudnn-cu12, nvidia-cusolver-cu12, sentence-transformers\n",
            "Successfully installed nvidia-cublas-cu12-12.1.3.1 nvidia-cuda-cupti-cu12-12.1.105 nvidia-cuda-nvrtc-cu12-12.1.105 nvidia-cuda-runtime-cu12-12.1.105 nvidia-cudnn-cu12-8.9.2.26 nvidia-cufft-cu12-11.0.2.54 nvidia-curand-cu12-10.3.2.106 nvidia-cusolver-cu12-11.4.5.107 nvidia-cusparse-cu12-12.1.0.106 nvidia-nccl-cu12-2.19.3 nvidia-nvjitlink-cu12-12.4.99 nvidia-nvtx-cu12-12.1.105 sentence-transformers-2.5.1\n"
          ]
        }
      ]
    },
    {
      "cell_type": "markdown",
      "id": "632f7aac-6786-4ea6-8fa3-25a6cebbd2e5",
      "metadata": {
        "id": "632f7aac-6786-4ea6-8fa3-25a6cebbd2e5"
      },
      "source": [
        "- Here is some code that suppresses warning messages."
      ]
    },
    {
      "cell_type": "code",
      "execution_count": null,
      "id": "058015a6-19cf-4f80-940d-f4af86cb589c",
      "metadata": {
        "height": 47,
        "id": "058015a6-19cf-4f80-940d-f4af86cb589c"
      },
      "outputs": [],
      "source": [
        "from transformers.utils import logging\n",
        "logging.set_verbosity_error()"
      ]
    },
    {
      "cell_type": "markdown",
      "id": "c35a8e72",
      "metadata": {
        "id": "c35a8e72"
      },
      "source": [
        "### Build the `sentence embedding` pipeline using 🤗 Transformers Library"
      ]
    },
    {
      "cell_type": "code",
      "execution_count": null,
      "id": "2ed9cec8-803a-4d7e-99d9-c4c84682901c",
      "metadata": {
        "height": 30,
        "id": "2ed9cec8-803a-4d7e-99d9-c4c84682901c"
      },
      "outputs": [],
      "source": [
        "from sentence_transformers import SentenceTransformer"
      ]
    },
    {
      "cell_type": "code",
      "execution_count": null,
      "id": "dd5dbb50-8c36-456c-ac0e-f724429c4b7f",
      "metadata": {
        "height": 30,
        "id": "dd5dbb50-8c36-456c-ac0e-f724429c4b7f"
      },
      "outputs": [],
      "source": [
        "model = SentenceTransformer(\"all-MiniLM-L6-v2\")"
      ]
    },
    {
      "cell_type": "markdown",
      "id": "cad701ed",
      "metadata": {
        "id": "cad701ed"
      },
      "source": [
        "More info on [all-MiniLM-L6-v2](https://huggingface.co/sentence-transformers/all-MiniLM-L6-v2)."
      ]
    },
    {
      "cell_type": "code",
      "execution_count": null,
      "id": "fe7d23e0-5e68-4537-8dd8-eb125e1a6820",
      "metadata": {
        "height": 64,
        "id": "fe7d23e0-5e68-4537-8dd8-eb125e1a6820"
      },
      "outputs": [],
      "source": [
        "sentences1 = ['The cat sits outside',\n",
        "              'A man is playing guitar',\n",
        "              'The movies are awesome']"
      ]
    },
    {
      "cell_type": "code",
      "execution_count": null,
      "id": "c33db645-edd8-4a28-a06f-e0fd8200f27f",
      "metadata": {
        "height": 30,
        "id": "c33db645-edd8-4a28-a06f-e0fd8200f27f"
      },
      "outputs": [],
      "source": [
        "embeddings1 = model.encode(sentences1, convert_to_tensor=True)"
      ]
    },
    {
      "cell_type": "code",
      "execution_count": null,
      "id": "75de3f4a-bd8e-41d6-847b-9a3a043adeeb",
      "metadata": {
        "height": 30,
        "colab": {
          "base_uri": "https://localhost:8080/"
        },
        "id": "75de3f4a-bd8e-41d6-847b-9a3a043adeeb",
        "outputId": "f9e1418b-0e2f-4b0d-d075-fa9b0b1f0163"
      },
      "outputs": [
        {
          "output_type": "execute_result",
          "data": {
            "text/plain": [
              "tensor([[ 0.1392,  0.0030,  0.0470,  ...,  0.0641, -0.0163,  0.0636],\n",
              "        [ 0.0227, -0.0014, -0.0056,  ..., -0.0225,  0.0846, -0.0283],\n",
              "        [-0.1043, -0.0628,  0.0093,  ...,  0.0020,  0.0653, -0.0150]])"
            ]
          },
          "metadata": {},
          "execution_count": 7
        }
      ],
      "source": [
        "embeddings1"
      ]
    },
    {
      "cell_type": "code",
      "execution_count": null,
      "id": "5136886d-80d4-4a3a-a68e-692c25496b51",
      "metadata": {
        "height": 64,
        "id": "5136886d-80d4-4a3a-a68e-692c25496b51"
      },
      "outputs": [],
      "source": [
        "sentences2 = ['The dog plays in the garden',\n",
        "              'A woman watches TV',\n",
        "              'The new movie is so great']"
      ]
    },
    {
      "cell_type": "code",
      "execution_count": null,
      "id": "c7e0c68f",
      "metadata": {
        "height": 47,
        "id": "c7e0c68f"
      },
      "outputs": [],
      "source": [
        "embeddings2 = model.encode(sentences2,\n",
        "                           convert_to_tensor=True)"
      ]
    },
    {
      "cell_type": "code",
      "execution_count": null,
      "id": "8a213124-ea97-4706-bbf4-737490e94244",
      "metadata": {
        "height": 30,
        "colab": {
          "base_uri": "https://localhost:8080/"
        },
        "id": "8a213124-ea97-4706-bbf4-737490e94244",
        "outputId": "c0c29cc6-ca56-4efa-e888-c3cd8819f2dd"
      },
      "outputs": [
        {
          "output_type": "stream",
          "name": "stdout",
          "text": [
            "tensor([[ 0.0163, -0.0700,  0.0384,  ...,  0.0447,  0.0254, -0.0023],\n",
            "        [ 0.0054, -0.0920,  0.0140,  ...,  0.0167, -0.0086, -0.0424],\n",
            "        [-0.0842, -0.0592, -0.0010,  ..., -0.0157,  0.0764,  0.0389]])\n"
          ]
        }
      ],
      "source": [
        "print(embeddings2)"
      ]
    },
    {
      "cell_type": "markdown",
      "id": "41c3d585",
      "metadata": {
        "id": "41c3d585"
      },
      "source": [
        "* Calculate the cosine similarity between two sentences as a measure of how similar they are to each other."
      ]
    },
    {
      "cell_type": "code",
      "execution_count": null,
      "id": "9e3b38a5-9b35-49de-9f85-c62583d6287d",
      "metadata": {
        "height": 30,
        "id": "9e3b38a5-9b35-49de-9f85-c62583d6287d"
      },
      "outputs": [],
      "source": [
        "from sentence_transformers import util"
      ]
    },
    {
      "cell_type": "code",
      "execution_count": null,
      "id": "39c1f4f3-94ad-4b5e-a40d-c4ba8277815b",
      "metadata": {
        "height": 30,
        "id": "39c1f4f3-94ad-4b5e-a40d-c4ba8277815b"
      },
      "outputs": [],
      "source": [
        "cosine_scores = util.cos_sim(embeddings1,embeddings2)"
      ]
    },
    {
      "cell_type": "code",
      "execution_count": null,
      "id": "b6859d46-15a7-4f61-8a9f-06a15baeff40",
      "metadata": {
        "height": 30,
        "colab": {
          "base_uri": "https://localhost:8080/"
        },
        "id": "b6859d46-15a7-4f61-8a9f-06a15baeff40",
        "outputId": "0ad8b521-292d-4dee-fd83-d28a2a9242b1"
      },
      "outputs": [
        {
          "output_type": "stream",
          "name": "stdout",
          "text": [
            "tensor([[ 0.2838,  0.1310, -0.0029],\n",
            "        [ 0.2277, -0.0327, -0.0136],\n",
            "        [-0.0124, -0.0465,  0.6571]])\n"
          ]
        }
      ],
      "source": [
        "print(cosine_scores)"
      ]
    },
    {
      "cell_type": "code",
      "execution_count": null,
      "id": "fae8571e-2dea-4872-b244-342731b949de",
      "metadata": {
        "height": 98,
        "colab": {
          "base_uri": "https://localhost:8080/"
        },
        "id": "fae8571e-2dea-4872-b244-342731b949de",
        "outputId": "afdf8426-733f-4abf-8e71-266e08669ace"
      },
      "outputs": [
        {
          "output_type": "stream",
          "name": "stdout",
          "text": [
            "The cat sits outside \t\t The dog plays in the garden \t\t Score: 0.2838\n",
            "A man is playing guitar \t\t A woman watches TV \t\t Score: -0.0327\n",
            "The movies are awesome \t\t The new movie is so great \t\t Score: 0.6571\n"
          ]
        }
      ],
      "source": [
        "for i in range(len(sentences1)):\n",
        "    print(\"{} \\t\\t {} \\t\\t Score: {:.4f}\".format(sentences1[i],\n",
        "                                                 sentences2[i],\n",
        "                                                 cosine_scores[i][i]))"
      ]
    },
    {
      "cell_type": "markdown",
      "id": "49863f4c",
      "metadata": {
        "id": "49863f4c"
      },
      "source": [
        "### Try it yourself!\n",
        "- Try this model with your own sentences!"
      ]
    }
  ],
  "metadata": {
    "kernelspec": {
      "display_name": "Python 3",
      "name": "python3"
    },
    "language_info": {
      "codemirror_mode": {
        "name": "ipython",
        "version": 3
      },
      "file_extension": ".py",
      "mimetype": "text/x-python",
      "name": "python",
      "nbconvert_exporter": "python",
      "pygments_lexer": "ipython3",
      "version": "3.9.18"
    },
    "colab": {
      "provenance": []
    }
  },
  "nbformat": 4,
  "nbformat_minor": 5
}